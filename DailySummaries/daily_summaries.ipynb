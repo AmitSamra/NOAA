{
 "cells": [
  {
   "cell_type": "code",
   "execution_count": 5,
   "metadata": {},
   "outputs": [
    {
     "data": {
      "text/plain": [
       "True"
      ]
     },
     "execution_count": 5,
     "metadata": {},
     "output_type": "execute_result"
    }
   ],
   "source": [
    "import os\n",
    "import json\n",
    "import pandas as pd\n",
    "from dotenv import load_dotenv\n",
    "dotenv_local_path = '../.env'\n",
    "load_dotenv(dotenv_path=dotenv_local_path, verbose=True)"
   ]
  },
  {
   "cell_type": "markdown",
   "metadata": {},
   "source": [
    "# Explore NOAA API Using requests"
   ]
  },
  {
   "cell_type": "code",
   "execution_count": 6,
   "metadata": {},
   "outputs": [],
   "source": [
    "import requests"
   ]
  },
  {
   "cell_type": "code",
   "execution_count": 11,
   "metadata": {},
   "outputs": [
    {
     "data": {
      "text/plain": [
       "'\\nThe results contain the Daily Summaries dataset:\\n{\\n\"datacoverage\": 1,\\n\"id\": \"GHCND\",\\n\"maxdate\": \"2020-11-22\",\\n\"mindate\": \"1763-01-01\",\\n\"name\": \"Daily Summaries\",\\n\"uid\": \"gov.noaa.ncdc:C00861\"\\n}\\n\\nDaily Summaries seems interesting, so let\\'s focus on it for our analysis.\\n'"
      ]
     },
     "execution_count": 11,
     "metadata": {},
     "output_type": "execute_result"
    }
   ],
   "source": [
    "# Get list of all available datasets\n",
    "url = \"https://www.ncdc.noaa.gov/cdo-web/api/v2/datasets\"\n",
    "headers = {\"token\":os.environ.get('NOAA_Token')}\n",
    "response = requests.get(url, headers=headers)\n",
    "data = response.json()\n",
    "\n",
    "file_path = './data/datasets_all.json'\n",
    "\n",
    "with open(file_path, 'w') as f:\n",
    "    json.dump(data, f, indent=4, sort_keys=True)\n",
    "    \n",
    "\"\"\"\n",
    "The results contain the Daily Summaries dataset:\n",
    "{\n",
    "\"datacoverage\": 1,\n",
    "\"id\": \"GHCND\",\n",
    "\"maxdate\": \"2020-11-22\",\n",
    "\"mindate\": \"1763-01-01\",\n",
    "\"name\": \"Daily Summaries\",\n",
    "\"uid\": \"gov.noaa.ncdc:C00861\"\n",
    "}\n",
    "\n",
    "Daily Summaries seems interesting, so let's focus on it for our analysis.\n",
    "\"\"\""
   ]
  },
  {
   "cell_type": "code",
   "execution_count": 12,
   "metadata": {},
   "outputs": [
    {
     "data": {
      "text/plain": [
       "'\\nThe results contain the following structure:\\n{\\n\"datacoverage\": 0.9958,\\n\"id\": \"CITY:AE000001\",\\n\"maxdate\": \"2020-11-18\",\\n\"mindate\": \"1983-01-01\",\\n\"name\": \"Abu Dhabi, AE\"\\n}\\n\\nThe id key will likely be important for accessing data for a particular city.\\n'"
      ]
     },
     "execution_count": 12,
     "metadata": {},
     "output_type": "execute_result"
    }
   ],
   "source": [
    "# Get all locations in the world\n",
    "url = \"https://www.ncdc.noaa.gov/cdo-web/api/v2/locations?locations&limit=10\"\n",
    "headers = {\"token\":os.environ.get('NOAA_Token')}\n",
    "response = requests.get(url, headers=headers)\n",
    "data = response.json()\n",
    "\n",
    "file_path = './data/locations_all.json'\n",
    "\n",
    "with open(file_path, 'w') as f:\n",
    "    json.dump(data, f, indent=4, sort_keys=True)\n",
    "    \n",
    "\"\"\"\n",
    "The results contain the following structure:\n",
    "{\n",
    "\"datacoverage\": 0.9958,\n",
    "\"id\": \"CITY:AE000001\",\n",
    "\"maxdate\": \"2020-11-18\",\n",
    "\"mindate\": \"1983-01-01\",\n",
    "\"name\": \"Abu Dhabi, AE\"\n",
    "}\n",
    "\n",
    "The id key will likely be important for accessing data for a particular city.\n",
    "\"\"\""
   ]
  },
  {
   "cell_type": "code",
   "execution_count": null,
   "metadata": {},
   "outputs": [],
   "source": []
  },
  {
   "cell_type": "code",
   "execution_count": null,
   "metadata": {},
   "outputs": [],
   "source": []
  },
  {
   "cell_type": "code",
   "execution_count": null,
   "metadata": {},
   "outputs": [],
   "source": []
  },
  {
   "cell_type": "code",
   "execution_count": null,
   "metadata": {},
   "outputs": [],
   "source": []
  },
  {
   "cell_type": "code",
   "execution_count": null,
   "metadata": {},
   "outputs": [],
   "source": []
  },
  {
   "cell_type": "code",
   "execution_count": null,
   "metadata": {},
   "outputs": [],
   "source": []
  }
 ],
 "metadata": {
  "kernelspec": {
   "display_name": "Python 3",
   "language": "python",
   "name": "python3"
  },
  "language_info": {
   "codemirror_mode": {
    "name": "ipython",
    "version": 3
   },
   "file_extension": ".py",
   "mimetype": "text/x-python",
   "name": "python",
   "nbconvert_exporter": "python",
   "pygments_lexer": "ipython3",
   "version": "3.8.5"
  }
 },
 "nbformat": 4,
 "nbformat_minor": 4
}
