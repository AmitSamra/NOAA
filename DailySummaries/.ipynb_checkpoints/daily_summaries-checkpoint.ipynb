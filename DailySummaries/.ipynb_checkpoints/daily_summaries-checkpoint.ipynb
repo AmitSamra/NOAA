{
 "cells": [
  {
   "cell_type": "code",
   "execution_count": 5,
   "metadata": {},
   "outputs": [
    {
     "data": {
      "text/plain": [
       "True"
      ]
     },
     "execution_count": 5,
     "metadata": {},
     "output_type": "execute_result"
    }
   ],
   "source": [
    "import os\n",
    "import json\n",
    "import pandas as pd\n",
    "from dotenv import load_dotenv\n",
    "dotenv_local_path = '../.env'\n",
    "load_dotenv(dotenv_path=dotenv_local_path, verbose=True)"
   ]
  },
  {
   "cell_type": "markdown",
   "metadata": {},
   "source": [
    "# Explore NOAA API Using requests"
   ]
  },
  {
   "cell_type": "code",
   "execution_count": 6,
   "metadata": {},
   "outputs": [],
   "source": [
    "import requests"
   ]
  },
  {
   "cell_type": "code",
   "execution_count": 11,
   "metadata": {},
   "outputs": [
    {
     "data": {
      "text/plain": [
       "'\\nThe results contain the Daily Summaries dataset:\\n{\\n\"datacoverage\": 1,\\n\"id\": \"GHCND\",\\n\"maxdate\": \"2020-11-22\",\\n\"mindate\": \"1763-01-01\",\\n\"name\": \"Daily Summaries\",\\n\"uid\": \"gov.noaa.ncdc:C00861\"\\n}\\n\\nDaily Summaries seems interesting, so let\\'s focus on it for our analysis.\\n'"
      ]
     },
     "execution_count": 11,
     "metadata": {},
     "output_type": "execute_result"
    }
   ],
   "source": [
    "# Get list of all available datasets\n",
    "url = \"https://www.ncdc.noaa.gov/cdo-web/api/v2/datasets\"\n",
    "headers = {\"token\":os.environ.get('NOAA_Token')}\n",
    "response = requests.get(url, headers=headers)\n",
    "data = response.json()\n",
    "\n",
    "file_path = './data/datasets_all.json'\n",
    "\n",
    "with open(file_path, 'w') as f:\n",
    "    json.dump(data, f, indent=4, sort_keys=True)\n",
    "    \n",
    "\"\"\"\n",
    "The results contain the Daily Summaries dataset:\n",
    "{\n",
    "\"datacoverage\": 1,\n",
    "\"id\": \"GHCND\",\n",
    "\"maxdate\": \"2020-11-22\",\n",
    "\"mindate\": \"1763-01-01\",\n",
    "\"name\": \"Daily Summaries\",\n",
    "\"uid\": \"gov.noaa.ncdc:C00861\"\n",
    "}\n",
    "\n",
    "Daily Summaries seems interesting, so let's focus on it for our analysis.\n",
    "\"\"\""
   ]
  },
  {
   "cell_type": "code",
   "execution_count": 12,
   "metadata": {},
   "outputs": [
    {
     "data": {
      "text/plain": [
       "'\\nThe results contain the following structure:\\n{\\n\"datacoverage\": 0.9958,\\n\"id\": \"CITY:AE000001\",\\n\"maxdate\": \"2020-11-18\",\\n\"mindate\": \"1983-01-01\",\\n\"name\": \"Abu Dhabi, AE\"\\n}\\n\\nThe id key will likely be important for accessing data for a particular city.\\n'"
      ]
     },
     "execution_count": 12,
     "metadata": {},
     "output_type": "execute_result"
    }
   ],
   "source": [
    "# Get all locations in the world\n",
    "url = \"https://www.ncdc.noaa.gov/cdo-web/api/v2/locations?locations&limit=10\"\n",
    "headers = {\"token\":os.environ.get('NOAA_Token')}\n",
    "response = requests.get(url, headers=headers)\n",
    "data = response.json()\n",
    "\n",
    "file_path = './data/locations_all.json'\n",
    "\n",
    "with open(file_path, 'w') as f:\n",
    "    json.dump(data, f, indent=4, sort_keys=True)\n",
    "    \n",
    "\"\"\"\n",
    "The results contain the following structure:\n",
    "{\n",
    "\"datacoverage\": 0.9958,\n",
    "\"id\": \"CITY:AE000001\",\n",
    "\"maxdate\": \"2020-11-18\",\n",
    "\"mindate\": \"1983-01-01\",\n",
    "\"name\": \"Abu Dhabi, AE\"\n",
    "}\n",
    "\n",
    "The id key will likely be important for accessing data for a particular city.\n",
    "\"\"\""
   ]
  },
  {
   "cell_type": "code",
   "execution_count": 14,
   "metadata": {},
   "outputs": [
    {
     "data": {
      "text/plain": [
       "'\\nThe results contain the CA location:\\n{\\n\"datacoverage\": 1,\\n\"id\": \"FIPS:06\",\\n\"maxdate\": \"2020-11-22\",\\n\"mindate\": \"1850-10-01\",\\n\"name\": \"California\"\\n}\\n'"
      ]
     },
     "execution_count": 14,
     "metadata": {},
     "output_type": "execute_result"
    }
   ],
   "source": [
    "# Get all locations in the US\n",
    "url = \"https://www.ncdc.noaa.gov/cdo-web/api/v2/locations?locationcategoryid=ST&limit=52\"\n",
    "headers = {\"token\":os.environ.get('NOAA_Token')}\n",
    "response = requests.get(url, headers=headers)\n",
    "data = response.json()\n",
    "\n",
    "file_path = './data/locations_us.json'\n",
    "\n",
    "with open(file_path, 'w') as f:\n",
    "    json.dump(data, f, indent=4, sort_keys=True)\n",
    "\n",
    "\"\"\"\n",
    "The results contain the CA location:\n",
    "{\n",
    "\"datacoverage\": 1,\n",
    "\"id\": \"FIPS:06\",\n",
    "\"maxdate\": \"2020-11-22\",\n",
    "\"mindate\": \"1850-10-01\",\n",
    "\"name\": \"California\"\n",
    "}\n",
    "\"\"\""
   ]
  },
  {
   "cell_type": "code",
   "execution_count": 22,
   "metadata": {},
   "outputs": [
    {
     "data": {
      "text/plain": [
       "'\\nThe results contain the OAKLAND NORTH CALIFORNIA location:\\n{\\n\"datacoverage\": 0.9704,\\n\"elevation\": 427.6,\\n\"elevationUnit\": \"METERS\",\\n\"id\": \"GHCND:USR0000COKN\",\\n\"latitude\": 37.865,\\n\"longitude\": -122.2208,\\n\"maxdate\": \"2020-11-22\",\\n\"mindate\": \"1992-06-08\",\\n\"name\": \"OAKLAND NORTH CALIFORNIA, CA US\"\\n}\\n\\nWe will use Oakland because it contains a relatively long dataset and is still active today.\\n'"
      ]
     },
     "execution_count": 22,
     "metadata": {},
     "output_type": "execute_result"
    }
   ],
   "source": [
    "# Get list of all available stations for CA location\n",
    "\"\"\"\n",
    "Note the use of an offset. This is required because each request can handle a maximum of 1000 results.\n",
    "The metadata key in the request tells us how many results there are:\n",
    "\"metadata\": {\n",
    "    \"resultset\": {\n",
    "    \"count\": 4346,\n",
    "    \"limit\": 1000,\n",
    "    \"offset\": 1\n",
    "    }\n",
    "}\n",
    "\n",
    "We need 5 files because we have 4346 results.\n",
    "\n",
    "Also note that the url contains a parameter for sorting the results. We used descending just as an example.\n",
    "\"\"\"\n",
    "\n",
    "offset_counter=1\n",
    "file_counter=0\n",
    "\n",
    "while file_counter < 5:\n",
    "    url = \"https://www.ncdc.noaa.gov/cdo-web/api/v2/stations?locationid=FIPS:06&sortfield=name&sortorder=desc&limit=1000\" +\"&offset=\" + str(offset_counter)\n",
    "    headers = {\"token\":os.environ.get('NOAA_Token')}\n",
    "    response = requests.get(url, headers=headers)\n",
    "    data = response.json()\n",
    "    \n",
    "    file_path = f'./data/stations_ca_{file_counter}.json'\n",
    "    \n",
    "    with open(file_path, 'w') as f:\n",
    "        json.dump(data, f, indent=4, sort_keys=True)\n",
    "        \n",
    "    offset_counter+=1000\n",
    "    file_counter+=1\n",
    "\n",
    "\"\"\"\n",
    "The results contain the OAKLAND NORTH CALIFORNIA location:\n",
    "{\n",
    "\"datacoverage\": 0.9704,\n",
    "\"elevation\": 427.6,\n",
    "\"elevationUnit\": \"METERS\",\n",
    "\"id\": \"GHCND:USR0000COKN\",\n",
    "\"latitude\": 37.865,\n",
    "\"longitude\": -122.2208,\n",
    "\"maxdate\": \"2020-11-22\",\n",
    "\"mindate\": \"1992-06-08\",\n",
    "\"name\": \"OAKLAND NORTH CALIFORNIA, CA US\"\n",
    "}\n",
    "\n",
    "We will use Oakland because it contains a relatively long dataset and is still active today.\n",
    "\"\"\""
   ]
  },
  {
   "cell_type": "code",
   "execution_count": 25,
   "metadata": {},
   "outputs": [
    {
     "data": {
      "text/plain": [
       "'\\nThe results contain the OAKLAND NORTH CALIFORNIA station:\\n{\\n\"datacoverage\": 0.9704,\\n\"elevation\": 427.6,\\n\"elevationUnit\": \"METERS\",\\n\"id\": \"GHCND:USR0000COKN\",\\n\"latitude\": 37.865,\\n\"longitude\": -122.2208,\\n\"maxdate\": \"2020-11-22\",\\n\"mindate\": \"1992-06-08\",\\n\"name\": \"OAKLAND NORTH CALIFORNIA, CA US\"\\n}\\n'"
      ]
     },
     "execution_count": 25,
     "metadata": {},
     "output_type": "execute_result"
    }
   ],
   "source": [
    "# Get list of all available stations for CA location that support the Daily Summaries dataset\n",
    "# and are active today\n",
    "\n",
    "\"\"\"\n",
    "Since there are only 255 results, we don't need a loop:\n",
    "\"metadata\": {\n",
    "\"resultset\": {\n",
    "\"count\": 255,\n",
    "\"limit\": 1000,\n",
    "\"offset\": 1\n",
    "    }\n",
    "}\n",
    "\"\"\"\n",
    "\n",
    "url = \"https://www.ncdc.noaa.gov/cdo-web/api/v2/stations?locationid=FIPS:06&sortfield=name&sortorder=desc&datasetid=GHCND&startdate=2020-11-22&enddate=2000-01-01&limit=1000\"\n",
    "headers = {\"token\":os.environ.get('NOAA_Token')}\n",
    "response = requests.get(url, headers=headers)\n",
    "data = response.json()\n",
    "\n",
    "file_path = f'./data/stations_ca_ghcnd.json'\n",
    "\n",
    "with open(file_path, 'w') as f:\n",
    "    json.dump(data, f, indent=4, sort_keys=True)\n",
    "\n",
    "\"\"\"\n",
    "The results contain the OAKLAND NORTH CALIFORNIA station:\n",
    "{\n",
    "\"datacoverage\": 0.9704,\n",
    "\"elevation\": 427.6,\n",
    "\"elevationUnit\": \"METERS\",\n",
    "\"id\": \"GHCND:USR0000COKN\",\n",
    "\"latitude\": 37.865,\n",
    "\"longitude\": -122.2208,\n",
    "\"maxdate\": \"2020-11-22\",\n",
    "\"mindate\": \"1992-06-08\",\n",
    "\"name\": \"OAKLAND NORTH CALIFORNIA, CA US\"\n",
    "}\n",
    "\"\"\""
   ]
  },
  {
   "cell_type": "code",
   "execution_count": null,
   "metadata": {},
   "outputs": [],
   "source": []
  },
  {
   "cell_type": "code",
   "execution_count": null,
   "metadata": {},
   "outputs": [],
   "source": []
  },
  {
   "cell_type": "code",
   "execution_count": null,
   "metadata": {},
   "outputs": [],
   "source": []
  }
 ],
 "metadata": {
  "kernelspec": {
   "display_name": "Python 3",
   "language": "python",
   "name": "python3"
  },
  "language_info": {
   "codemirror_mode": {
    "name": "ipython",
    "version": 3
   },
   "file_extension": ".py",
   "mimetype": "text/x-python",
   "name": "python",
   "nbconvert_exporter": "python",
   "pygments_lexer": "ipython3",
   "version": "3.8.5"
  }
 },
 "nbformat": 4,
 "nbformat_minor": 4
}
