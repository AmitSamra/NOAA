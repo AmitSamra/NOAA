{
 "cells": [
  {
   "cell_type": "markdown",
   "metadata": {},
   "source": [
    "# <a id='home'>Table of Contents<a/>\n",
    "\n",
    "<a href='#section1'>Explore NOAA API Using requests</a>\n",
    "\n",
    "<a href='#section2'>Load Data into Python</a> \n",
    "\n",
    "<a href='#section3'>Load Multiple Files into Python Using os.walk( )</a>\n",
    "    \n",
    "<a href='#section4'>Explore NOAA API Using urllib</a>"
   ]
  },
  {
   "cell_type": "code",
   "execution_count": 1,
   "metadata": {},
   "outputs": [
    {
     "data": {
      "text/plain": [
       "True"
      ]
     },
     "execution_count": 1,
     "metadata": {},
     "output_type": "execute_result"
    }
   ],
   "source": [
    "import os\n",
    "import json\n",
    "import pandas as pd\n",
    "from dotenv import load_dotenv\n",
    "dotenv_local_path = '../.env'\n",
    "load_dotenv(dotenv_path=dotenv_local_path, verbose=True)"
   ]
  },
  {
   "cell_type": "markdown",
   "metadata": {},
   "source": [
    "## <a id='section1'>Explore NOAA API Using requests</a>\n",
    "\n",
    "<a href='#home'>Home</a>"
   ]
  },
  {
   "cell_type": "code",
   "execution_count": 2,
   "metadata": {},
   "outputs": [],
   "source": [
    "import requests"
   ]
  },
  {
   "cell_type": "code",
   "execution_count": 3,
   "metadata": {},
   "outputs": [
    {
     "data": {
      "text/plain": [
       "'\\nThe results contain the Daily Summaries dataset:\\n{\\n\"datacoverage\": 1,\\n\"id\": \"GHCND\",\\n\"maxdate\": \"2020-11-22\",\\n\"mindate\": \"1763-01-01\",\\n\"name\": \"Daily Summaries\",\\n\"uid\": \"gov.noaa.ncdc:C00861\"\\n}\\n\\nDaily Summaries seems interesting, so let\\'s focus on it for our analysis.\\n'"
      ]
     },
     "execution_count": 3,
     "metadata": {},
     "output_type": "execute_result"
    }
   ],
   "source": [
    "# Get list of all available datasets\n",
    "url = \"https://www.ncdc.noaa.gov/cdo-web/api/v2/datasets\"\n",
    "headers = {\"token\":os.environ.get('NOAA_Token')}\n",
    "response = requests.get(url, headers=headers)\n",
    "data = response.json()\n",
    "\n",
    "file_path = './data/datasets_all.json'\n",
    "\n",
    "with open(file_path, 'w') as f:\n",
    "    json.dump(data, f, indent=4, sort_keys=True)\n",
    "    \n",
    "\"\"\"\n",
    "The results contain the Daily Summaries dataset:\n",
    "{\n",
    "\"datacoverage\": 1,\n",
    "\"id\": \"GHCND\",\n",
    "\"maxdate\": \"2020-11-22\",\n",
    "\"mindate\": \"1763-01-01\",\n",
    "\"name\": \"Daily Summaries\",\n",
    "\"uid\": \"gov.noaa.ncdc:C00861\"\n",
    "}\n",
    "\n",
    "Daily Summaries seems interesting, so let's focus on it for our analysis.\n",
    "\"\"\""
   ]
  },
  {
   "cell_type": "code",
   "execution_count": 4,
   "metadata": {},
   "outputs": [
    {
     "data": {
      "text/plain": [
       "'\\nThe results contain the following structure:\\n{\\n\"datacoverage\": 0.9958,\\n\"id\": \"CITY:AE000001\",\\n\"maxdate\": \"2020-11-18\",\\n\"mindate\": \"1983-01-01\",\\n\"name\": \"Abu Dhabi, AE\"\\n}\\n\\nThe id key will likely be important for accessing data for a particular city.\\n'"
      ]
     },
     "execution_count": 4,
     "metadata": {},
     "output_type": "execute_result"
    }
   ],
   "source": [
    "# Get all locations in the world\n",
    "url = \"https://www.ncdc.noaa.gov/cdo-web/api/v2/locations?locations&limit=10\"\n",
    "headers = {\"token\":os.environ.get('NOAA_Token')}\n",
    "response = requests.get(url, headers=headers)\n",
    "data = response.json()\n",
    "\n",
    "file_path = './data/locations_all.json'\n",
    "\n",
    "with open(file_path, 'w') as f:\n",
    "    json.dump(data, f, indent=4, sort_keys=True)\n",
    "    \n",
    "\"\"\"\n",
    "The results contain the following structure:\n",
    "{\n",
    "\"datacoverage\": 0.9958,\n",
    "\"id\": \"CITY:AE000001\",\n",
    "\"maxdate\": \"2020-11-18\",\n",
    "\"mindate\": \"1983-01-01\",\n",
    "\"name\": \"Abu Dhabi, AE\"\n",
    "}\n",
    "\n",
    "The id key will likely be important for accessing data for a particular city.\n",
    "\"\"\""
   ]
  },
  {
   "cell_type": "code",
   "execution_count": 5,
   "metadata": {},
   "outputs": [
    {
     "data": {
      "text/plain": [
       "'\\nThe results contain the CA location:\\n{\\n\"datacoverage\": 1,\\n\"id\": \"FIPS:06\",\\n\"maxdate\": \"2020-11-22\",\\n\"mindate\": \"1850-10-01\",\\n\"name\": \"California\"\\n}\\n'"
      ]
     },
     "execution_count": 5,
     "metadata": {},
     "output_type": "execute_result"
    }
   ],
   "source": [
    "# Get all locations in the US\n",
    "url = \"https://www.ncdc.noaa.gov/cdo-web/api/v2/locations?locationcategoryid=ST&limit=52\"\n",
    "headers = {\"token\":os.environ.get('NOAA_Token')}\n",
    "response = requests.get(url, headers=headers)\n",
    "data = response.json()\n",
    "\n",
    "file_path = './data/locations_us.json'\n",
    "\n",
    "with open(file_path, 'w') as f:\n",
    "    json.dump(data, f, indent=4, sort_keys=True)\n",
    "\n",
    "\"\"\"\n",
    "The results contain the CA location:\n",
    "{\n",
    "\"datacoverage\": 1,\n",
    "\"id\": \"FIPS:06\",\n",
    "\"maxdate\": \"2020-11-22\",\n",
    "\"mindate\": \"1850-10-01\",\n",
    "\"name\": \"California\"\n",
    "}\n",
    "\"\"\""
   ]
  },
  {
   "cell_type": "code",
   "execution_count": 6,
   "metadata": {},
   "outputs": [
    {
     "data": {
      "text/plain": [
       "'\\nThe results contain the OAKLAND NORTH CALIFORNIA location:\\n{\\n\"datacoverage\": 0.9704,\\n\"elevation\": 427.6,\\n\"elevationUnit\": \"METERS\",\\n\"id\": \"GHCND:USR0000COKN\",\\n\"latitude\": 37.865,\\n\"longitude\": -122.2208,\\n\"maxdate\": \"2020-11-22\",\\n\"mindate\": \"1992-06-08\",\\n\"name\": \"OAKLAND NORTH CALIFORNIA, CA US\"\\n}\\n\\nWe will use Oakland because it contains a relatively long dataset and is still active today.\\n'"
      ]
     },
     "execution_count": 6,
     "metadata": {},
     "output_type": "execute_result"
    }
   ],
   "source": [
    "# Get list of all available stations for CA location\n",
    "\"\"\"\n",
    "Note the use of an offset. This is required because each request can handle a maximum of 1000 results.\n",
    "The metadata key in the request tells us how many results there are:\n",
    "\"metadata\": {\n",
    "    \"resultset\": {\n",
    "    \"count\": 4346,\n",
    "    \"limit\": 1000,\n",
    "    \"offset\": 1\n",
    "    }\n",
    "}\n",
    "\n",
    "We need 5 files because we have 4346 results.\n",
    "\n",
    "Also note that the url contains a parameter for sorting the results. We used descending just as an example.\n",
    "\"\"\"\n",
    "\n",
    "offset_counter=1\n",
    "file_counter=0\n",
    "\n",
    "while file_counter < 5:\n",
    "    url = \"https://www.ncdc.noaa.gov/cdo-web/api/v2/stations?locationid=FIPS:06&sortfield=name&sortorder=desc&limit=1000\" +\"&offset=\" + str(offset_counter)\n",
    "    headers = {\"token\":os.environ.get('NOAA_Token')}\n",
    "    response = requests.get(url, headers=headers)\n",
    "    data = response.json()\n",
    "    \n",
    "    file_path = f'./data/stations_ca_{file_counter}.json'\n",
    "    \n",
    "    with open(file_path, 'w') as f:\n",
    "        json.dump(data, f, indent=4, sort_keys=True)\n",
    "        \n",
    "    offset_counter+=1000\n",
    "    file_counter+=1\n",
    "\n",
    "\"\"\"\n",
    "The results contain the OAKLAND NORTH CALIFORNIA location:\n",
    "{\n",
    "\"datacoverage\": 0.9704,\n",
    "\"elevation\": 427.6,\n",
    "\"elevationUnit\": \"METERS\",\n",
    "\"id\": \"GHCND:USR0000COKN\",\n",
    "\"latitude\": 37.865,\n",
    "\"longitude\": -122.2208,\n",
    "\"maxdate\": \"2020-11-22\",\n",
    "\"mindate\": \"1992-06-08\",\n",
    "\"name\": \"OAKLAND NORTH CALIFORNIA, CA US\"\n",
    "}\n",
    "\n",
    "We will use Oakland because it contains a relatively long dataset and is still active today.\n",
    "\"\"\""
   ]
  },
  {
   "cell_type": "code",
   "execution_count": 7,
   "metadata": {},
   "outputs": [
    {
     "data": {
      "text/plain": [
       "'\\nThe results contain the OAKLAND NORTH CALIFORNIA station:\\n{\\n\"datacoverage\": 0.9704,\\n\"elevation\": 427.6,\\n\"elevationUnit\": \"METERS\",\\n\"id\": \"GHCND:USR0000COKN\",\\n\"latitude\": 37.865,\\n\"longitude\": -122.2208,\\n\"maxdate\": \"2020-11-22\",\\n\"mindate\": \"1992-06-08\",\\n\"name\": \"OAKLAND NORTH CALIFORNIA, CA US\"\\n}\\n'"
      ]
     },
     "execution_count": 7,
     "metadata": {},
     "output_type": "execute_result"
    }
   ],
   "source": [
    "# Get list of all available stations for CA location that support the Daily Summaries dataset\n",
    "# and are active today\n",
    "\n",
    "\"\"\"\n",
    "Since there are only 255 results, we don't need a loop:\n",
    "\"metadata\": {\n",
    "\"resultset\": {\n",
    "\"count\": 255,\n",
    "\"limit\": 1000,\n",
    "\"offset\": 1\n",
    "    }\n",
    "}\n",
    "\"\"\"\n",
    "\n",
    "url = \"https://www.ncdc.noaa.gov/cdo-web/api/v2/stations?locationid=FIPS:06&sortfield=name&sortorder=desc&datasetid=GHCND&startdate=2020-11-22&enddate=2000-01-01&limit=1000\"\n",
    "headers = {\"token\":os.environ.get('NOAA_Token')}\n",
    "response = requests.get(url, headers=headers)\n",
    "data = response.json()\n",
    "\n",
    "file_path = f'./data/stations_ca_ghcnd.json'\n",
    "\n",
    "with open(file_path, 'w') as f:\n",
    "    json.dump(data, f, indent=4, sort_keys=True)\n",
    "\n",
    "\"\"\"\n",
    "The results contain the OAKLAND NORTH CALIFORNIA station:\n",
    "{\n",
    "\"datacoverage\": 0.9704,\n",
    "\"elevation\": 427.6,\n",
    "\"elevationUnit\": \"METERS\",\n",
    "\"id\": \"GHCND:USR0000COKN\",\n",
    "\"latitude\": 37.865,\n",
    "\"longitude\": -122.2208,\n",
    "\"maxdate\": \"2020-11-22\",\n",
    "\"mindate\": \"1992-06-08\",\n",
    "\"name\": \"OAKLAND NORTH CALIFORNIA, CA US\"\n",
    "}\n",
    "\"\"\""
   ]
  },
  {
   "cell_type": "code",
   "execution_count": 8,
   "metadata": {},
   "outputs": [
    {
     "data": {
      "text/plain": [
       "'\\nThe results do in fact contain the Daily Summaries dataset for the OAKLAND NORTH CALIFORNIA station:\\n{\\n\"datacoverage\": 1,\\n\"id\": \"GHCND\",\\n\"maxdate\": \"2020-11-22\",\\n\"mindate\": \"1763-01-01\",\\n\"name\": \"Daily Summaries\",\\n\"uid\": \"gov.noaa.ncdc:C00861\"\\n}\\n'"
      ]
     },
     "execution_count": 8,
     "metadata": {},
     "output_type": "execute_result"
    }
   ],
   "source": [
    "# Get list of all available datasets for the OAKLAND NORTH CALIFORNIA station\n",
    "url = \"https://www.ncdc.noaa.gov/cdo-web/api/v2/datasets?stationid=GHCND:USR0000COKN\"\n",
    "headers = {\"token\":os.environ.get('NOAA_Token')}\n",
    "response = requests.get(url, headers=headers)\n",
    "data = response.json()\n",
    "\n",
    "file_path = './data/datasets_ca_oakland.json'\n",
    "\n",
    "with open(file_path, 'w') as f:\n",
    "    json.dump(data, f, indent=4, sort_keys=True)\n",
    "\n",
    "\"\"\"\n",
    "The results do in fact contain the Daily Summaries dataset for the OAKLAND NORTH CALIFORNIA station:\n",
    "{\n",
    "\"datacoverage\": 1,\n",
    "\"id\": \"GHCND\",\n",
    "\"maxdate\": \"2020-11-22\",\n",
    "\"mindate\": \"1763-01-01\",\n",
    "\"name\": \"Daily Summaries\",\n",
    "\"uid\": \"gov.noaa.ncdc:C00861\"\n",
    "}\n",
    "\"\"\""
   ]
  },
  {
   "cell_type": "code",
   "execution_count": 9,
   "metadata": {},
   "outputs": [],
   "source": [
    "# Finally, we can get the Daily Summaries for the OAKLAND NORTH CALIFORNIA station\n",
    "\"\"\"\n",
    "The data below is for Jan 2020 only.\n",
    "\"\"\"\n",
    "\n",
    "url = \"https://www.ncdc.noaa.gov/cdo-web/api/v2/data?datasetid=GHCND&stationid=GHCND:USR0000COKN&startdate=2020-01-01&enddate=2020-01-31&units=standard&limit=1000\"\n",
    "headers = {\"token\":os.environ.get('NOAA_Token')}\n",
    "response = requests.get(url, headers=headers)\n",
    "data = response.json()\n",
    "\n",
    "file_path = './data/daily_summaries_ca_oakland.json'\n",
    "\n",
    "with open(file_path, 'w') as f:\n",
    "    json.dump(data, f, indent=4, sort_keys=True)"
   ]
  },
  {
   "cell_type": "markdown",
   "metadata": {},
   "source": [
    "## <a id='section2'>Load Data into Python</a>\n",
    "\n",
    "<a href='#home'>Home</a>"
   ]
  },
  {
   "cell_type": "code",
   "execution_count": 10,
   "metadata": {},
   "outputs": [],
   "source": [
    "# Load data\n",
    "\n",
    "file_path = './data/daily_summaries_ca_oakland.json'\n",
    "\n",
    "with open(file_path, 'r') as f:\n",
    "    data = json.load(f)\n",
    "\n",
    "#data"
   ]
  },
  {
   "cell_type": "code",
   "execution_count": 11,
   "metadata": {},
   "outputs": [],
   "source": [
    "# We can simpligy the above action by creating a function\n",
    "def read_json(file_path):\n",
    "    with open(file_path, 'r') as f:\n",
    "        data = json.load(f)\n",
    "    return data"
   ]
  },
  {
   "cell_type": "code",
   "execution_count": 12,
   "metadata": {},
   "outputs": [],
   "source": [
    "# Apply the function to read daily_summaries_ca_oakland.json\n",
    "file_path = './data/daily_summaries_ca_oakland.json'\n",
    "\n",
    "json_contents = read_json(file_path)\n",
    "#json_contents"
   ]
  },
  {
   "cell_type": "code",
   "execution_count": 13,
   "metadata": {},
   "outputs": [
    {
     "data": {
      "text/html": [
       "<div>\n",
       "<style scoped>\n",
       "    .dataframe tbody tr th:only-of-type {\n",
       "        vertical-align: middle;\n",
       "    }\n",
       "\n",
       "    .dataframe tbody tr th {\n",
       "        vertical-align: top;\n",
       "    }\n",
       "\n",
       "    .dataframe thead th {\n",
       "        text-align: right;\n",
       "    }\n",
       "</style>\n",
       "<table border=\"1\" class=\"dataframe\">\n",
       "  <thead>\n",
       "    <tr style=\"text-align: right;\">\n",
       "      <th></th>\n",
       "      <th>attributes</th>\n",
       "      <th>datatype</th>\n",
       "      <th>date</th>\n",
       "      <th>station</th>\n",
       "      <th>value</th>\n",
       "    </tr>\n",
       "  </thead>\n",
       "  <tbody>\n",
       "    <tr>\n",
       "      <th>0</th>\n",
       "      <td>,,U,</td>\n",
       "      <td>TAVG</td>\n",
       "      <td>2020-01-01T00:00:00</td>\n",
       "      <td>GHCND:USR0000COKN</td>\n",
       "      <td>51.0</td>\n",
       "    </tr>\n",
       "    <tr>\n",
       "      <th>1</th>\n",
       "      <td>H,,U,</td>\n",
       "      <td>TMAX</td>\n",
       "      <td>2020-01-01T00:00:00</td>\n",
       "      <td>GHCND:USR0000COKN</td>\n",
       "      <td>59.0</td>\n",
       "    </tr>\n",
       "    <tr>\n",
       "      <th>2</th>\n",
       "      <td>H,,U,</td>\n",
       "      <td>TMIN</td>\n",
       "      <td>2020-01-01T00:00:00</td>\n",
       "      <td>GHCND:USR0000COKN</td>\n",
       "      <td>46.0</td>\n",
       "    </tr>\n",
       "    <tr>\n",
       "      <th>3</th>\n",
       "      <td>,,U,</td>\n",
       "      <td>TAVG</td>\n",
       "      <td>2020-01-02T00:00:00</td>\n",
       "      <td>GHCND:USR0000COKN</td>\n",
       "      <td>53.0</td>\n",
       "    </tr>\n",
       "    <tr>\n",
       "      <th>4</th>\n",
       "      <td>H,,U,</td>\n",
       "      <td>TMAX</td>\n",
       "      <td>2020-01-02T00:00:00</td>\n",
       "      <td>GHCND:USR0000COKN</td>\n",
       "      <td>61.0</td>\n",
       "    </tr>\n",
       "    <tr>\n",
       "      <th>5</th>\n",
       "      <td>H,,U,</td>\n",
       "      <td>TMIN</td>\n",
       "      <td>2020-01-02T00:00:00</td>\n",
       "      <td>GHCND:USR0000COKN</td>\n",
       "      <td>46.0</td>\n",
       "    </tr>\n",
       "    <tr>\n",
       "      <th>6</th>\n",
       "      <td>,,U,</td>\n",
       "      <td>TAVG</td>\n",
       "      <td>2020-01-03T00:00:00</td>\n",
       "      <td>GHCND:USR0000COKN</td>\n",
       "      <td>53.0</td>\n",
       "    </tr>\n",
       "    <tr>\n",
       "      <th>7</th>\n",
       "      <td>H,,U,</td>\n",
       "      <td>TMAX</td>\n",
       "      <td>2020-01-03T00:00:00</td>\n",
       "      <td>GHCND:USR0000COKN</td>\n",
       "      <td>60.0</td>\n",
       "    </tr>\n",
       "    <tr>\n",
       "      <th>8</th>\n",
       "      <td>H,,U,</td>\n",
       "      <td>TMIN</td>\n",
       "      <td>2020-01-03T00:00:00</td>\n",
       "      <td>GHCND:USR0000COKN</td>\n",
       "      <td>47.0</td>\n",
       "    </tr>\n",
       "    <tr>\n",
       "      <th>9</th>\n",
       "      <td>,,U,</td>\n",
       "      <td>TAVG</td>\n",
       "      <td>2020-01-04T00:00:00</td>\n",
       "      <td>GHCND:USR0000COKN</td>\n",
       "      <td>48.0</td>\n",
       "    </tr>\n",
       "  </tbody>\n",
       "</table>\n",
       "</div>"
      ],
      "text/plain": [
       "  attributes datatype                 date            station  value\n",
       "0       ,,U,     TAVG  2020-01-01T00:00:00  GHCND:USR0000COKN   51.0\n",
       "1      H,,U,     TMAX  2020-01-01T00:00:00  GHCND:USR0000COKN   59.0\n",
       "2      H,,U,     TMIN  2020-01-01T00:00:00  GHCND:USR0000COKN   46.0\n",
       "3       ,,U,     TAVG  2020-01-02T00:00:00  GHCND:USR0000COKN   53.0\n",
       "4      H,,U,     TMAX  2020-01-02T00:00:00  GHCND:USR0000COKN   61.0\n",
       "5      H,,U,     TMIN  2020-01-02T00:00:00  GHCND:USR0000COKN   46.0\n",
       "6       ,,U,     TAVG  2020-01-03T00:00:00  GHCND:USR0000COKN   53.0\n",
       "7      H,,U,     TMAX  2020-01-03T00:00:00  GHCND:USR0000COKN   60.0\n",
       "8      H,,U,     TMIN  2020-01-03T00:00:00  GHCND:USR0000COKN   47.0\n",
       "9       ,,U,     TAVG  2020-01-04T00:00:00  GHCND:USR0000COKN   48.0"
      ]
     },
     "execution_count": 13,
     "metadata": {},
     "output_type": "execute_result"
    }
   ],
   "source": [
    "# Convert json_contents into pandas dataframe\n",
    "# Note, we are after the content in the results key\n",
    "df_ds = pd.DataFrame(json_contents[\"results\"])\n",
    "df_ds.head(10)"
   ]
  },
  {
   "cell_type": "code",
   "execution_count": 14,
   "metadata": {},
   "outputs": [
    {
     "data": {
      "text/html": [
       "<div>\n",
       "<style scoped>\n",
       "    .dataframe tbody tr th:only-of-type {\n",
       "        vertical-align: middle;\n",
       "    }\n",
       "\n",
       "    .dataframe tbody tr th {\n",
       "        vertical-align: top;\n",
       "    }\n",
       "\n",
       "    .dataframe thead th {\n",
       "        text-align: right;\n",
       "    }\n",
       "</style>\n",
       "<table border=\"1\" class=\"dataframe\">\n",
       "  <thead>\n",
       "    <tr style=\"text-align: right;\">\n",
       "      <th></th>\n",
       "      <th>date</th>\n",
       "      <th>TAVG</th>\n",
       "      <th>TMAX</th>\n",
       "      <th>TMIN</th>\n",
       "    </tr>\n",
       "  </thead>\n",
       "  <tbody>\n",
       "    <tr>\n",
       "      <th>0</th>\n",
       "      <td>2020-01-01T00:00:00</td>\n",
       "      <td>51.0</td>\n",
       "      <td>59.0</td>\n",
       "      <td>46.0</td>\n",
       "    </tr>\n",
       "    <tr>\n",
       "      <th>1</th>\n",
       "      <td>2020-01-02T00:00:00</td>\n",
       "      <td>53.0</td>\n",
       "      <td>61.0</td>\n",
       "      <td>46.0</td>\n",
       "    </tr>\n",
       "    <tr>\n",
       "      <th>2</th>\n",
       "      <td>2020-01-03T00:00:00</td>\n",
       "      <td>53.0</td>\n",
       "      <td>60.0</td>\n",
       "      <td>47.0</td>\n",
       "    </tr>\n",
       "    <tr>\n",
       "      <th>3</th>\n",
       "      <td>2020-01-04T00:00:00</td>\n",
       "      <td>48.0</td>\n",
       "      <td>53.0</td>\n",
       "      <td>46.0</td>\n",
       "    </tr>\n",
       "    <tr>\n",
       "      <th>4</th>\n",
       "      <td>2020-01-05T00:00:00</td>\n",
       "      <td>47.0</td>\n",
       "      <td>55.0</td>\n",
       "      <td>41.0</td>\n",
       "    </tr>\n",
       "    <tr>\n",
       "      <th>5</th>\n",
       "      <td>2020-01-06T00:00:00</td>\n",
       "      <td>49.0</td>\n",
       "      <td>53.0</td>\n",
       "      <td>45.0</td>\n",
       "    </tr>\n",
       "    <tr>\n",
       "      <th>6</th>\n",
       "      <td>2020-01-07T00:00:00</td>\n",
       "      <td>48.0</td>\n",
       "      <td>55.0</td>\n",
       "      <td>44.0</td>\n",
       "    </tr>\n",
       "    <tr>\n",
       "      <th>7</th>\n",
       "      <td>2020-01-08T00:00:00</td>\n",
       "      <td>46.0</td>\n",
       "      <td>52.0</td>\n",
       "      <td>44.0</td>\n",
       "    </tr>\n",
       "    <tr>\n",
       "      <th>8</th>\n",
       "      <td>2020-01-09T00:00:00</td>\n",
       "      <td>44.0</td>\n",
       "      <td>47.0</td>\n",
       "      <td>43.0</td>\n",
       "    </tr>\n",
       "    <tr>\n",
       "      <th>9</th>\n",
       "      <td>2020-01-10T00:00:00</td>\n",
       "      <td>47.0</td>\n",
       "      <td>56.0</td>\n",
       "      <td>42.0</td>\n",
       "    </tr>\n",
       "  </tbody>\n",
       "</table>\n",
       "</div>"
      ],
      "text/plain": [
       "                  date  TAVG  TMAX  TMIN\n",
       "0  2020-01-01T00:00:00  51.0  59.0  46.0\n",
       "1  2020-01-02T00:00:00  53.0  61.0  46.0\n",
       "2  2020-01-03T00:00:00  53.0  60.0  47.0\n",
       "3  2020-01-04T00:00:00  48.0  53.0  46.0\n",
       "4  2020-01-05T00:00:00  47.0  55.0  41.0\n",
       "5  2020-01-06T00:00:00  49.0  53.0  45.0\n",
       "6  2020-01-07T00:00:00  48.0  55.0  44.0\n",
       "7  2020-01-08T00:00:00  46.0  52.0  44.0\n",
       "8  2020-01-09T00:00:00  44.0  47.0  43.0\n",
       "9  2020-01-10T00:00:00  47.0  56.0  42.0"
      ]
     },
     "execution_count": 14,
     "metadata": {},
     "output_type": "execute_result"
    }
   ],
   "source": [
    "# Organize data by date\n",
    "df_ds = df_ds.pivot('date','datatype','value').reset_index()\n",
    "df_ds = df_ds.rename_axis(None,axis=1)\n",
    "df_ds.head(10)"
   ]
  },
  {
   "cell_type": "code",
   "execution_count": 15,
   "metadata": {},
   "outputs": [],
   "source": [
    "from datetime import datetime"
   ]
  },
  {
   "cell_type": "code",
   "execution_count": 16,
   "metadata": {},
   "outputs": [
    {
     "name": "stdout",
     "output_type": "stream",
     "text": [
      "<class 'pandas.core.frame.DataFrame'>\n",
      "RangeIndex: 31 entries, 0 to 30\n",
      "Data columns (total 4 columns):\n",
      " #   Column  Non-Null Count  Dtype         \n",
      "---  ------  --------------  -----         \n",
      " 0   date    31 non-null     datetime64[ns]\n",
      " 1   TAVG    31 non-null     float64       \n",
      " 2   TMAX    31 non-null     float64       \n",
      " 3   TMIN    31 non-null     float64       \n",
      "dtypes: datetime64[ns](1), float64(3)\n",
      "memory usage: 1.1 KB\n"
     ]
    }
   ],
   "source": [
    "df_ds['date'] = df_ds['date'].astype('datetime64[ns]')\n",
    "df_ds.info()"
   ]
  },
  {
   "cell_type": "markdown",
   "metadata": {},
   "source": [
    "## <a id='section3'>Load Multiple Files into Python Using os.walk( )</a>\n",
    "\n",
    "<a href='#home'>Home</a>"
   ]
  },
  {
   "cell_type": "code",
   "execution_count": 17,
   "metadata": {},
   "outputs": [],
   "source": [
    "# Get the Daily Summaries for the OAKLAND NORTH CALIFORNIA station for 1 month in multiple files\n",
    "\"\"\"\n",
    "We need 3 files if we with an offset of 31 (1095/31)\n",
    "\n",
    "\"metadata\": {\n",
    "    \"resultset\": {\n",
    "    \"count\": 93,\n",
    "    \"limit\": 31,\n",
    "    \"offset\": 1\n",
    "    }\n",
    "}\n",
    "\"\"\"\n",
    "offset_counter=1\n",
    "file_counter=0\n",
    "\n",
    "while file_counter < 3:\n",
    "    url = \"https://www.ncdc.noaa.gov/cdo-web/api/v2/data?datasetid=GHCND&stationid=GHCND:USR0000COKN&startdate=2019-01-01&enddate=2019-01-31&units=standard&limit=31\" +\"&offset=\" + str(offset_counter)\n",
    "    headers = {\"token\":os.environ.get('NOAA_Token')}\n",
    "    response = requests.get(url, headers=headers)\n",
    "    data = response.json()\n",
    "\n",
    "    file_path = f'./data/Oakland/daily_summaries_ca_oakland_{file_counter}.json'\n",
    "\n",
    "    with open(file_path, 'w') as f:\n",
    "        json.dump(data, f, indent=4, sort_keys=True)\n",
    "    \n",
    "    offset_counter+=31\n",
    "    file_counter+=1"
   ]
  },
  {
   "cell_type": "code",
   "execution_count": 18,
   "metadata": {},
   "outputs": [],
   "source": [
    "# Define function to read JSON files\n",
    "def read_json(file_path):\n",
    "    with open(file_path, 'r') as f:\n",
    "        data = json.load(f)\n",
    "    return data"
   ]
  },
  {
   "cell_type": "code",
   "execution_count": 19,
   "metadata": {},
   "outputs": [],
   "source": [
    "# Define function to go traverse through directory and join JSON files\n",
    "def read_all_json_files(folder_path):\n",
    "    for dirpath, dirnames, filenames in os.walk(folder_path):\n",
    "        results_list = []\n",
    "        for f in filenames:\n",
    "            if f.endswith('.json'):\n",
    "                json_contents = read_json(os.path.join(folder_path,f))\n",
    "                for i in json_contents['results']:\n",
    "                    results_list.append(i)\n",
    "        #df = pd.DataFrame(results_list)\n",
    "        #return df\n",
    "        return results_list"
   ]
  },
  {
   "cell_type": "code",
   "execution_count": 20,
   "metadata": {},
   "outputs": [],
   "source": [
    "# Apply functions to read all JSON files in Oakland directory\n",
    "folder_path = './data/Oakland/'\n",
    "ds_combined = read_all_json_files(folder_path)\n",
    "#ds_combined"
   ]
  },
  {
   "cell_type": "code",
   "execution_count": 21,
   "metadata": {},
   "outputs": [],
   "source": [
    "# Create dataframe\n",
    "df_ds_combined = pd.DataFrame(ds_combined)\n",
    "#df_ds_combined"
   ]
  },
  {
   "cell_type": "code",
   "execution_count": 22,
   "metadata": {},
   "outputs": [
    {
     "data": {
      "text/html": [
       "<div>\n",
       "<style scoped>\n",
       "    .dataframe tbody tr th:only-of-type {\n",
       "        vertical-align: middle;\n",
       "    }\n",
       "\n",
       "    .dataframe tbody tr th {\n",
       "        vertical-align: top;\n",
       "    }\n",
       "\n",
       "    .dataframe thead th {\n",
       "        text-align: right;\n",
       "    }\n",
       "</style>\n",
       "<table border=\"1\" class=\"dataframe\">\n",
       "  <thead>\n",
       "    <tr style=\"text-align: right;\">\n",
       "      <th></th>\n",
       "      <th>date</th>\n",
       "      <th>TAVG</th>\n",
       "      <th>TMAX</th>\n",
       "      <th>TMIN</th>\n",
       "    </tr>\n",
       "  </thead>\n",
       "  <tbody>\n",
       "    <tr>\n",
       "      <th>0</th>\n",
       "      <td>2019-01-01T00:00:00</td>\n",
       "      <td>43.0</td>\n",
       "      <td>49.0</td>\n",
       "      <td>36.0</td>\n",
       "    </tr>\n",
       "    <tr>\n",
       "      <th>1</th>\n",
       "      <td>2019-01-02T00:00:00</td>\n",
       "      <td>45.0</td>\n",
       "      <td>49.0</td>\n",
       "      <td>39.0</td>\n",
       "    </tr>\n",
       "    <tr>\n",
       "      <th>2</th>\n",
       "      <td>2019-01-03T00:00:00</td>\n",
       "      <td>43.0</td>\n",
       "      <td>47.0</td>\n",
       "      <td>39.0</td>\n",
       "    </tr>\n",
       "    <tr>\n",
       "      <th>3</th>\n",
       "      <td>2019-01-04T00:00:00</td>\n",
       "      <td>45.0</td>\n",
       "      <td>54.0</td>\n",
       "      <td>41.0</td>\n",
       "    </tr>\n",
       "    <tr>\n",
       "      <th>4</th>\n",
       "      <td>2019-01-05T00:00:00</td>\n",
       "      <td>47.0</td>\n",
       "      <td>49.0</td>\n",
       "      <td>44.0</td>\n",
       "    </tr>\n",
       "    <tr>\n",
       "      <th>5</th>\n",
       "      <td>2019-01-06T00:00:00</td>\n",
       "      <td>46.0</td>\n",
       "      <td>52.0</td>\n",
       "      <td>43.0</td>\n",
       "    </tr>\n",
       "    <tr>\n",
       "      <th>6</th>\n",
       "      <td>2019-01-07T00:00:00</td>\n",
       "      <td>48.0</td>\n",
       "      <td>56.0</td>\n",
       "      <td>44.0</td>\n",
       "    </tr>\n",
       "    <tr>\n",
       "      <th>7</th>\n",
       "      <td>2019-01-08T00:00:00</td>\n",
       "      <td>50.0</td>\n",
       "      <td>53.0</td>\n",
       "      <td>45.0</td>\n",
       "    </tr>\n",
       "    <tr>\n",
       "      <th>8</th>\n",
       "      <td>2019-01-09T00:00:00</td>\n",
       "      <td>51.0</td>\n",
       "      <td>53.0</td>\n",
       "      <td>48.0</td>\n",
       "    </tr>\n",
       "    <tr>\n",
       "      <th>9</th>\n",
       "      <td>2019-01-10T00:00:00</td>\n",
       "      <td>49.0</td>\n",
       "      <td>59.0</td>\n",
       "      <td>45.0</td>\n",
       "    </tr>\n",
       "  </tbody>\n",
       "</table>\n",
       "</div>"
      ],
      "text/plain": [
       "                  date  TAVG  TMAX  TMIN\n",
       "0  2019-01-01T00:00:00  43.0  49.0  36.0\n",
       "1  2019-01-02T00:00:00  45.0  49.0  39.0\n",
       "2  2019-01-03T00:00:00  43.0  47.0  39.0\n",
       "3  2019-01-04T00:00:00  45.0  54.0  41.0\n",
       "4  2019-01-05T00:00:00  47.0  49.0  44.0\n",
       "5  2019-01-06T00:00:00  46.0  52.0  43.0\n",
       "6  2019-01-07T00:00:00  48.0  56.0  44.0\n",
       "7  2019-01-08T00:00:00  50.0  53.0  45.0\n",
       "8  2019-01-09T00:00:00  51.0  53.0  48.0\n",
       "9  2019-01-10T00:00:00  49.0  59.0  45.0"
      ]
     },
     "execution_count": 22,
     "metadata": {},
     "output_type": "execute_result"
    }
   ],
   "source": [
    "# Organize dataframe data by date\n",
    "df_ds_combined = df_ds_combined.pivot('date','datatype','value').reset_index()\n",
    "df_ds_combined = df_ds_combined.rename_axis(None,axis=1)\n",
    "df_ds_combined.head(10)"
   ]
  },
  {
   "cell_type": "code",
   "execution_count": 23,
   "metadata": {},
   "outputs": [],
   "source": [
    "import matplotlib.pyplot as plt"
   ]
  },
  {
   "cell_type": "code",
   "execution_count": 24,
   "metadata": {},
   "outputs": [
    {
     "data": {
      "image/png": "[encoded data removed]",
      "text/plain": [
       "<Figure size 1080x360 with 1 Axes>"
      ]
     },
     "metadata": {
      "needs_background": "light"
     },
     "output_type": "display_data"
    }
   ],
   "source": [
    "fig,ax = plt.subplots(figsize=(15,5))\n",
    "ax.plot(df_ds.date, df_ds.TMAX, color='red')\n",
    "ax.plot(df_ds.date, df_ds.TAVG)\n",
    "ax.plot(df_ds.date, df_ds.TMIN, color='green')\n",
    "ax.set_ylabel('Temperature F')\n",
    "ax.set_title('Temperature 2020 Jan')\n",
    "\n",
    "ax.legend(\n",
    "    title = 'Temperature',\n",
    "    labels = ['TMAX', 'TAVG', 'TMIN'],\n",
    "    loc = 'center left',\n",
    "    bbox_to_anchor = (1,.5,0,0)\n",
    ")\n",
    "\n",
    "plt.show()"
   ]
  },
  {
   "cell_type": "markdown",
   "metadata": {},
   "source": [
    "## <a id='section4'>Explore NOAA API Using urllib</a>\n",
    "\n",
    "<a href='#home'>Home</a>"
   ]
  },
  {
   "cell_type": "code",
   "execution_count": 25,
   "metadata": {},
   "outputs": [],
   "source": [
    "import urllib.request as ur"
   ]
  },
  {
   "cell_type": "code",
   "execution_count": 26,
   "metadata": {},
   "outputs": [],
   "source": [
    "# Get daily summary for Jan 2020 using urllib\n",
    "\n",
    "url = \"https://www.ncdc.noaa.gov/cdo-web/api/v2/data?datasetid=GHCND&stationid=GHCND:USR0000COKN&startdate=2020-01-01&enddate=2020-01-31&units=standard&limit=1000\"\n",
    "headers = {'token':os.environ.get('NOAA_Token')}\n",
    "request = ur.Request(url, headers=headers)\n",
    "#data = json.load(request)\n",
    "\n",
    "file_path = './data_urllib/daily_summaries_ca_oakland.json'\n",
    "\n",
    "with ur.urlopen(request) as f:\n",
    "    data = json.load(f)\n",
    "    \n",
    "    with open(file_path, 'w') as g:\n",
    "        json.dump(data,g, indent=4, sort_keys=True)"
   ]
  },
  {
   "cell_type": "code",
   "execution_count": null,
   "metadata": {},
   "outputs": [],
   "source": []
  }
 ],
 "metadata": {
  "kernelspec": {
   "display_name": "Python 3",
   "language": "python",
   "name": "python3"
  },
  "language_info": {
   "codemirror_mode": {
    "name": "ipython",
    "version": 3
   },
   "file_extension": ".py",
   "mimetype": "text/x-python",
   "name": "python",
   "nbconvert_exporter": "python",
   "pygments_lexer": "ipython3",
   "version": "3.8.5"
  }
 },
 "nbformat": 4,
 "nbformat_minor": 4
}
